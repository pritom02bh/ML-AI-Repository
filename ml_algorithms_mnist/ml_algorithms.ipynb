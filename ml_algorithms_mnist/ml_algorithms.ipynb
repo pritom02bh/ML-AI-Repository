{
 "cells": [
  {
   "cell_type": "markdown",
   "metadata": {},
   "source": [
    "### CSIT 598 Machine Learning | Assignment 1 | By Pritom Bhowmik"
   ]
  },
  {
   "cell_type": "code",
   "execution_count": 10,
   "metadata": {},
   "outputs": [],
   "source": [
    "# standard imports\n",
    "import numpy as np\n",
    "import pandas as pd\n",
    "import matplotlib.pyplot as plt\n",
    "import seaborn as sns\n",
    "import tensorflow as tf\n",
    "from sklearn.model_selection import train_test_split\n",
    "from sklearn.tree import DecisionTreeClassifier\n",
    "from sklearn.metrics import accuracy_score\n",
    "from sklearn.metrics import confusion_matrix\n",
    "from sklearn.metrics import classification_report\n",
    "from sklearn.metrics import roc_auc_score\n",
    "from sklearn.metrics import roc_curve\n",
    "from sklearn.metrics import precision_score\n",
    "from sklearn.metrics import recall_score\n",
    "from sklearn.metrics import f1_score\n",
    "from sklearn.neighbors import KNeighborsClassifier\n",
    "from sklearn.metrics import accuracy_score, classification_report\n",
    "\n"
   ]
  },
  {
   "cell_type": "code",
   "execution_count": 2,
   "metadata": {},
   "outputs": [
    {
     "name": "stdout",
     "output_type": "stream",
     "text": [
      "Downloading data from https://storage.googleapis.com/tensorflow/tf-keras-datasets/mnist.npz\n",
      "\u001b[1m11490434/11490434\u001b[0m \u001b[32m━━━━━━━━━━━━━━━━━━━━\u001b[0m\u001b[37m\u001b[0m \u001b[1m0s\u001b[0m 0us/step\n"
     ]
    }
   ],
   "source": [
    "# Load Dataset\n",
    "mnist = tf.keras.datasets.mnist\n",
    "(X_train, y_train), (X_test, y_test) = mnist.load_data()"
   ]
  },
  {
   "cell_type": "markdown",
   "metadata": {},
   "source": [
    "### Tasks:"
   ]
  },
  {
   "cell_type": "markdown",
   "metadata": {},
   "source": [
    "### 1. Decision Tree Classifier:"
   ]
  },
  {
   "cell_type": "code",
   "execution_count": 4,
   "metadata": {},
   "outputs": [
    {
     "name": "stdout",
     "output_type": "stream",
     "text": [
      "Accuracy: 0.8628125\n",
      "Precision (Weighted): 0.8628810849366207\n",
      "Recall (Weighted): 0.8628125\n",
      "Classification Report: \n",
      "              precision    recall  f1-score   support\n",
      "\n",
      "           0       0.90      0.89      0.90       919\n",
      "           1       0.93      0.94      0.93      1055\n",
      "           2       0.85      0.82      0.84       958\n",
      "           3       0.83      0.82      0.83       962\n",
      "           4       0.86      0.87      0.86       939\n",
      "           5       0.80      0.84      0.82       897\n",
      "           6       0.89      0.92      0.90       954\n",
      "           7       0.91      0.89      0.90      1038\n",
      "           8       0.81      0.78      0.79       899\n",
      "           9       0.82      0.85      0.83       979\n",
      "\n",
      "    accuracy                           0.86      9600\n",
      "   macro avg       0.86      0.86      0.86      9600\n",
      "weighted avg       0.86      0.86      0.86      9600\n",
      "\n"
     ]
    }
   ],
   "source": [
    "# Flatten the images to 1D array of 784 features (28*28) for each image\n",
    "X_train = X_train.reshape(X_train.shape[0], 784)\n",
    "X_test = X_test.reshape(X_test.shape[0], 784)\n",
    "\n",
    "# Normalize the images to a value between 0 and 1\n",
    "X_train = X_train / 255.0\n",
    "X_test = X_test / 255.0\n",
    "\n",
    "# Split the dataset into training and testing sets\n",
    "X_train, X_val, y_train, y_val = train_test_split(X_train, y_train, test_size=0.2, random_state=0)\n",
    "\n",
    "# Decision Tree Classifier\n",
    "dt = DecisionTreeClassifier()\n",
    "dt.fit(X_train, y_train)\n",
    "\n",
    "# Predict the labels\n",
    "y_pred = dt.predict(X_val)\n",
    "\n",
    "# Calculate the accuracy\n",
    "accuracy = accuracy_score(y_val, y_pred)\n",
    "print(f\"Accuracy: {accuracy}\")\n",
    "\n",
    "# Calculate the precision and recall\n",
    "precision = precision_score(y_val, y_pred, average='weighted')\n",
    "recall = recall_score(y_val, y_pred, average='weighted')\n",
    "\n",
    "print(f\"Precision (Weighted): {precision}\")\n",
    "print(f\"Recall (Weighted): {recall}\")\n",
    "\n",
    "# Classification Report\n",
    "class_report = classification_report(y_val, y_pred)\n",
    "print(f\"Classification Report: \\n{class_report}\")\n"
   ]
  },
  {
   "cell_type": "markdown",
   "metadata": {},
   "source": [
    "### 2. Naive Bayes Classifier"
   ]
  },
  {
   "cell_type": "markdown",
   "metadata": {},
   "source": [
    "### Gaussian"
   ]
  },
  {
   "cell_type": "code",
   "execution_count": 5,
   "metadata": {},
   "outputs": [
    {
     "name": "stdout",
     "output_type": "stream",
     "text": [
      "Accuracy: 0.5488541666666666\n",
      "Precision (Weighted): 0.6913161382371854\n",
      "Recall (Weighted): 0.5488541666666666\n",
      "Classification Report: \n",
      "              precision    recall  f1-score   support\n",
      "\n",
      "           0       0.76      0.84      0.80       919\n",
      "           1       0.80      0.94      0.87      1055\n",
      "           2       0.88      0.35      0.50       958\n",
      "           3       0.76      0.31      0.44       962\n",
      "           4       0.89      0.17      0.28       939\n",
      "           5       0.63      0.12      0.20       897\n",
      "           6       0.62      0.96      0.75       954\n",
      "           7       0.90      0.27      0.42      1038\n",
      "           8       0.28      0.54      0.37       899\n",
      "           9       0.35      0.95      0.51       979\n",
      "\n",
      "    accuracy                           0.55      9600\n",
      "   macro avg       0.69      0.54      0.51      9600\n",
      "weighted avg       0.69      0.55      0.52      9600\n",
      "\n"
     ]
    }
   ],
   "source": [
    "# Naive Bayes Classifier (Gaussian)\n",
    "\n",
    "# Import the Gaussian Naive Bayes Classifier\n",
    "from sklearn.naive_bayes import GaussianNB\n",
    "\n",
    "# Create a Gaussian Naive Bayes Classifier\n",
    "nb = GaussianNB()\n",
    "\n",
    "# Train the model using the training sets\n",
    "nb.fit(X_train, y_train)\n",
    "\n",
    "# Predict the response for test dataset\n",
    "y_pred = nb.predict(X_val)\n",
    "\n",
    "# Calculate the accuracy\n",
    "accuracy = accuracy_score(y_val, y_pred)\n",
    "print(f\"Accuracy: {accuracy}\")\n",
    "\n",
    "# Calculate the precision and recall\n",
    "precision = precision_score(y_val, y_pred, average='weighted')\n",
    "recall = recall_score(y_val, y_pred, average='weighted')\n",
    "\n",
    "print(f\"Precision (Weighted): {precision}\")\n",
    "print(f\"Recall (Weighted): {recall}\")\n",
    "\n",
    "# Classification Report\n",
    "class_report = classification_report(y_val, y_pred)\n",
    "print(f\"Classification Report: \\n{class_report}\")\n"
   ]
  },
  {
   "cell_type": "markdown",
   "metadata": {},
   "source": [
    "### Multinomial"
   ]
  },
  {
   "cell_type": "code",
   "execution_count": 7,
   "metadata": {},
   "outputs": [
    {
     "name": "stdout",
     "output_type": "stream",
     "text": [
      "Accuracy: 0.8221666666666667\n",
      "Precision (Weighted): 0.8306811959871239\n",
      "Recall (Weighted): 0.8221666666666667\n",
      "Classification Report: \n",
      "              precision    recall  f1-score   support\n",
      "\n",
      "           0       0.91      0.91      0.91      1205\n",
      "           1       0.89      0.94      0.92      1379\n",
      "           2       0.89      0.81      0.85      1166\n",
      "           3       0.79      0.82      0.80      1208\n",
      "           4       0.83      0.73      0.77      1153\n",
      "           5       0.85      0.64      0.73      1075\n",
      "           6       0.87      0.91      0.89      1190\n",
      "           7       0.94      0.82      0.88      1228\n",
      "           8       0.65      0.76      0.70      1191\n",
      "           9       0.68      0.83      0.75      1205\n",
      "\n",
      "    accuracy                           0.82     12000\n",
      "   macro avg       0.83      0.82      0.82     12000\n",
      "weighted avg       0.83      0.82      0.82     12000\n",
      "\n"
     ]
    }
   ],
   "source": [
    "# Naive Bayes Classifier (Multinomial)\n",
    "\n",
    "from sklearn.naive_bayes import MultinomialNB\n",
    "\n",
    "# Create a Multinomial Naive Bayes Classifier\n",
    "nb = MultinomialNB()\n",
    "\n",
    "# Train the model using the training sets\n",
    "nb.fit(X_train, y_train)\n",
    "\n",
    "# Predict the response for test dataset\n",
    "y_pred = nb.predict(X_val)\n",
    "\n",
    "# Calculate the accuracy\n",
    "accuracy = accuracy_score(y_val, y_pred)\n",
    "print(f\"Accuracy: {accuracy}\")\n",
    "\n",
    "# Calculate the precision and recall\n",
    "precision = precision_score(y_val, y_pred, average='weighted')\n",
    "recall = recall_score(y_val, y_pred, average='weighted')\n",
    "\n",
    "print(f\"Precision (Weighted): {precision}\")\n",
    "print(f\"Recall (Weighted): {recall}\")\n",
    "\n",
    "# Classification Report\n",
    "class_report = classification_report(y_val, y_pred)\n",
    "print(f\"Classification Report: \\n{class_report}\")\n"
   ]
  },
  {
   "cell_type": "markdown",
   "metadata": {},
   "source": [
    "### 2. Support Vector Machine Classifier (SVM)"
   ]
  },
  {
   "cell_type": "markdown",
   "metadata": {},
   "source": [
    "### Linear Kernel (SVM)"
   ]
  },
  {
   "cell_type": "markdown",
   "metadata": {},
   "source": [
    "### "
   ]
  },
  {
   "cell_type": "code",
   "execution_count": 8,
   "metadata": {},
   "outputs": [
    {
     "name": "stdout",
     "output_type": "stream",
     "text": [
      "Accuracy: 0.9366666666666666\n",
      "Precision (Weighted): 0.9365999644929025\n",
      "Recall (Weighted): 0.9366666666666666\n",
      "Classification Report: \n",
      "              precision    recall  f1-score   support\n",
      "\n",
      "           0       0.96      0.98      0.97      1205\n",
      "           1       0.96      0.99      0.97      1379\n",
      "           2       0.92      0.93      0.92      1166\n",
      "           3       0.91      0.91      0.91      1208\n",
      "           4       0.93      0.94      0.93      1153\n",
      "           5       0.90      0.89      0.90      1075\n",
      "           6       0.97      0.96      0.96      1190\n",
      "           7       0.95      0.94      0.95      1228\n",
      "           8       0.94      0.89      0.92      1191\n",
      "           9       0.94      0.91      0.92      1205\n",
      "\n",
      "    accuracy                           0.94     12000\n",
      "   macro avg       0.94      0.94      0.94     12000\n",
      "weighted avg       0.94      0.94      0.94     12000\n",
      "\n"
     ]
    }
   ],
   "source": [
    "from sklearn.svm import SVC\n",
    "\n",
    "# Create a Support Vector Classifier with a linear kernel\n",
    "svm_model = SVC(kernel='linear')\n",
    "\n",
    "# Train the model using the training sets\n",
    "svm_model.fit(X_train, y_train)\n",
    "\n",
    "# Predict the response for test dataset\n",
    "y_pred = svm_model.predict(X_val)\n",
    "\n",
    "# Calculate the accuracy\n",
    "accuracy = accuracy_score(y_val, y_pred)\n",
    "print(f\"Accuracy: {accuracy}\")\n",
    "\n",
    "# Calculate precision and recall\n",
    "precision = precision_score(y_val, y_pred, average='weighted')\n",
    "recall = recall_score(y_val, y_pred, average='weighted')\n",
    "\n",
    "print(f\"Precision (Weighted): {precision}\")\n",
    "print(f\"Recall (Weighted): {recall}\")\n",
    "\n",
    "# Classification Report\n",
    "class_report = classification_report(y_val, y_pred)\n",
    "print(f\"Classification Report: \\n{class_report}\")\n"
   ]
  },
  {
   "cell_type": "markdown",
   "metadata": {},
   "source": [
    "### RBF Kernel (SVM)"
   ]
  },
  {
   "cell_type": "code",
   "execution_count": 9,
   "metadata": {},
   "outputs": [
    {
     "name": "stdout",
     "output_type": "stream",
     "text": [
      "Accuracy: 0.9781666666666666\n",
      "Precision (Weighted): 0.9781734385330919\n",
      "Recall (Weighted): 0.9781666666666666\n",
      "Classification Report: \n",
      "              precision    recall  f1-score   support\n",
      "\n",
      "           0       0.99      0.99      0.99      1205\n",
      "           1       0.99      0.99      0.99      1379\n",
      "           2       0.97      0.98      0.98      1166\n",
      "           3       0.98      0.97      0.97      1208\n",
      "           4       0.97      0.98      0.98      1153\n",
      "           5       0.97      0.96      0.97      1075\n",
      "           6       0.98      0.99      0.98      1190\n",
      "           7       0.98      0.98      0.98      1228\n",
      "           8       0.97      0.97      0.97      1191\n",
      "           9       0.98      0.96      0.97      1205\n",
      "\n",
      "    accuracy                           0.98     12000\n",
      "   macro avg       0.98      0.98      0.98     12000\n",
      "weighted avg       0.98      0.98      0.98     12000\n",
      "\n"
     ]
    }
   ],
   "source": [
    "# Vector Machine Classifier (SVM) with RBF Kernel\n",
    "\n",
    "# Create a Support Vector Classifier with an RBF kernel\n",
    "svm_model = SVC(kernel='rbf')\n",
    "\n",
    "# Train the model using the training sets\n",
    "svm_model.fit(X_train, y_train)\n",
    "\n",
    "# Predict the response for test dataset\n",
    "y_pred = svm_model.predict(X_val)\n",
    "\n",
    "# Calculate the accuracy\n",
    "accuracy = accuracy_score(y_val, y_pred)\n",
    "print(f\"Accuracy: {accuracy}\")\n",
    "\n",
    "# Calculate precision and recall\n",
    "precision = precision_score(y_val, y_pred, average='weighted')\n",
    "recall = recall_score(y_val, y_pred, average='weighted')\n",
    "\n",
    "print(f\"Precision (Weighted): {precision}\")\n",
    "print(f\"Recall (Weighted): {recall}\")\n",
    "\n",
    "# Classification Report\n",
    "class_report = classification_report(y_val, y_pred)\n",
    "print(f\"Classification Report: \\n{class_report}\")\n"
   ]
  },
  {
   "cell_type": "markdown",
   "metadata": {},
   "source": [
    "### 4. K-Nearest Neighbors (K-NN)"
   ]
  },
  {
   "cell_type": "code",
   "execution_count": 11,
   "metadata": {},
   "outputs": [
    {
     "name": "stdout",
     "output_type": "stream",
     "text": [
      "Accuracy for k=1: 0.9738333333333333\n",
      "Accuracy for k=2: 0.9673333333333334\n",
      "Accuracy for k=3: 0.973\n",
      "Accuracy for k=4: 0.9716666666666667\n",
      "Accuracy for k=5: 0.97075\n",
      "Accuracy for k=6: 0.9698333333333333\n",
      "Accuracy for k=7: 0.97025\n",
      "Accuracy for k=8: 0.9691666666666666\n",
      "Accuracy for k=9: 0.9683333333333334\n",
      "Accuracy for k=10: 0.967\n",
      "Accuracy for k=11: 0.9673333333333334\n",
      "Accuracy for k=12: 0.9663333333333334\n",
      "Accuracy for k=13: 0.9656666666666667\n",
      "Accuracy for k=14: 0.96525\n",
      "Accuracy for k=15: 0.9651666666666666\n",
      "Accuracy for k=16: 0.9645\n",
      "Accuracy for k=17: 0.96325\n",
      "Accuracy for k=18: 0.96275\n",
      "Accuracy for k=19: 0.9623333333333334\n",
      "Accuracy for k=20: 0.9616666666666667\n",
      "\n",
      "Optimal k value: 1 with an accuracy of: 0.9738333333333333\n",
      "Classification Report for optimal k=1:\n",
      "              precision    recall  f1-score   support\n",
      "\n",
      "           0       0.98      1.00      0.99      1205\n",
      "           1       0.97      1.00      0.99      1379\n",
      "           2       0.99      0.97      0.98      1166\n",
      "           3       0.97      0.96      0.97      1208\n",
      "           4       0.98      0.97      0.97      1153\n",
      "           5       0.97      0.97      0.97      1075\n",
      "           6       0.98      0.99      0.98      1190\n",
      "           7       0.97      0.98      0.98      1228\n",
      "           8       0.97      0.94      0.96      1191\n",
      "           9       0.95      0.97      0.96      1205\n",
      "\n",
      "    accuracy                           0.97     12000\n",
      "   macro avg       0.97      0.97      0.97     12000\n",
      "weighted avg       0.97      0.97      0.97     12000\n",
      "\n"
     ]
    }
   ],
   "source": [
    "# K-Nearest Neighbors Classifier\n",
    "\n",
    "# Experiment with different values of k\n",
    "k_values = range(1, 21)  # K Value\n",
    "accuracies = []\n",
    "\n",
    "for k in k_values:\n",
    "    # Create a k-NN Classifier\n",
    "    knn = KNeighborsClassifier(n_neighbors=k)\n",
    "    \n",
    "    # Train the model using the training sets\n",
    "    knn.fit(X_train, y_train)\n",
    "    \n",
    "    # Predict the response for the validation dataset\n",
    "    y_pred = knn.predict(X_val)\n",
    "    \n",
    "    # Calculate the accuracy\n",
    "    accuracy = accuracy_score(y_val, y_pred)\n",
    "    accuracies.append(accuracy)\n",
    "    print(f\"Accuracy for k={k}: {accuracy}\")\n",
    "\n",
    "# Find the optimal k\n",
    "optimal_k = k_values[np.argmax(accuracies)]\n",
    "optimal_accuracy = max(accuracies)\n",
    "\n",
    "print(f\"\\nOptimal k value: {optimal_k} with an accuracy of: {optimal_accuracy}\")\n",
    "\n",
    "# Classification Report for the optimal k\n",
    "best_knn = KNeighborsClassifier(n_neighbors=optimal_k)\n",
    "best_knn.fit(X_train, y_train)\n",
    "y_pred_best = best_knn.predict(X_val)\n",
    "\n",
    "# Display the classification report for the optimal k\n",
    "class_report = classification_report(y_val, y_pred_best)\n",
    "print(f\"Classification Report for optimal k={optimal_k}:\\n{class_report}\")\n",
    "\n",
    "\n"
   ]
  },
  {
   "cell_type": "markdown",
   "metadata": {},
   "source": [
    "### 5. Ensemble Learning"
   ]
  },
  {
   "cell_type": "markdown",
   "metadata": {},
   "source": [
    "### Bagging"
   ]
  },
  {
   "cell_type": "code",
   "execution_count": 14,
   "metadata": {},
   "outputs": [
    {
     "name": "stdout",
     "output_type": "stream",
     "text": [
      "Accuracy: 0.95925\n",
      "Precision (Weighted): 0.9592408943440139\n",
      "Recall (Weighted): 0.95925\n",
      "Classification Report: \n",
      "              precision    recall  f1-score   support\n",
      "\n",
      "           0       0.97      0.98      0.98      1205\n",
      "           1       0.98      0.99      0.99      1379\n",
      "           2       0.95      0.96      0.95      1166\n",
      "           3       0.96      0.94      0.95      1208\n",
      "           4       0.96      0.96      0.96      1153\n",
      "           5       0.95      0.94      0.95      1075\n",
      "           6       0.96      0.97      0.97      1190\n",
      "           7       0.97      0.96      0.96      1228\n",
      "           8       0.94      0.94      0.94      1191\n",
      "           9       0.94      0.94      0.94      1205\n",
      "\n",
      "    accuracy                           0.96     12000\n",
      "   macro avg       0.96      0.96      0.96     12000\n",
      "weighted avg       0.96      0.96      0.96     12000\n",
      "\n"
     ]
    }
   ],
   "source": [
    "from sklearn.ensemble import BaggingClassifier\n",
    "from sklearn.tree import DecisionTreeClassifier\n",
    "from sklearn.metrics import accuracy_score, precision_score, recall_score, classification_report\n",
    "\n",
    "# Create a Bagging Classifier with Decision Trees as the base estimator\n",
    "bagging = BaggingClassifier(estimator=DecisionTreeClassifier(), n_estimators=100)\n",
    "\n",
    "# Train the model using the training sets\n",
    "bagging.fit(X_train, y_train)\n",
    "\n",
    "# Predict the response for test dataset\n",
    "y_pred = bagging.predict(X_val)\n",
    "\n",
    "# Calculate the accuracy\n",
    "accuracy = accuracy_score(y_val, y_pred)\n",
    "print(f\"Accuracy: {accuracy}\")\n",
    "\n",
    "# Calculate precision and recall\n",
    "precision = precision_score(y_val, y_pred, average='weighted')\n",
    "recall = recall_score(y_val, y_pred, average='weighted')\n",
    "\n",
    "print(f\"Precision (Weighted): {precision}\")\n",
    "print(f\"Recall (Weighted): {recall}\")\n",
    "\n",
    "# Classification Report\n",
    "class_report = classification_report(y_val, y_pred)\n",
    "print(f\"Classification Report: \\n{class_report}\")\n"
   ]
  },
  {
   "cell_type": "markdown",
   "metadata": {},
   "source": [
    "# Adaboost With Decision Tree as base estimator"
   ]
  },
  {
   "cell_type": "code",
   "execution_count": 16,
   "metadata": {},
   "outputs": [
    {
     "name": "stdout",
     "output_type": "stream",
     "text": [
      "Accuracy: 0.8704166666666666\n",
      "Precision (Weighted): 0.870079639699621\n",
      "Recall (Weighted): 0.8704166666666666\n",
      "Classification Report: \n",
      "              precision    recall  f1-score   support\n",
      "\n",
      "           0       0.92      0.92      0.92      1205\n",
      "           1       0.94      0.96      0.95      1379\n",
      "           2       0.86      0.84      0.85      1166\n",
      "           3       0.84      0.84      0.84      1208\n",
      "           4       0.88      0.86      0.87      1153\n",
      "           5       0.81      0.80      0.81      1075\n",
      "           6       0.89      0.89      0.89      1190\n",
      "           7       0.88      0.91      0.90      1228\n",
      "           8       0.83      0.80      0.82      1191\n",
      "           9       0.83      0.85      0.84      1205\n",
      "\n",
      "    accuracy                           0.87     12000\n",
      "   macro avg       0.87      0.87      0.87     12000\n",
      "weighted avg       0.87      0.87      0.87     12000\n",
      "\n"
     ]
    }
   ],
   "source": [
    "from sklearn.ensemble import AdaBoostClassifier\n",
    "from sklearn.tree import DecisionTreeClassifier\n",
    "from sklearn.metrics import accuracy_score, precision_score, recall_score, classification_report\n",
    "\n",
    "# Create a Decision Tree Classifier with AdaBoost as the boosting method using SAMME algorithm\n",
    "ada_boost = AdaBoostClassifier(estimator=DecisionTreeClassifier(), n_estimators=100, algorithm=\"SAMME\")\n",
    "\n",
    "# Train the model using the training sets\n",
    "ada_boost.fit(X_train, y_train)\n",
    "\n",
    "# Predict the response for test dataset\n",
    "y_pred = ada_boost.predict(X_val)\n",
    "\n",
    "# Calculate the accuracy\n",
    "accuracy = accuracy_score(y_val, y_pred)\n",
    "print(f\"Accuracy: {accuracy}\")\n",
    "\n",
    "# Calculate precision and recall\n",
    "precision = precision_score(y_val, y_pred, average='weighted')\n",
    "recall = recall_score(y_val, y_pred, average='weighted')\n",
    "\n",
    "print(f\"Precision (Weighted): {precision}\")\n",
    "print(f\"Recall (Weighted): {recall}\")\n",
    "\n",
    "# Classification Report\n",
    "class_report = classification_report(y_val, y_pred)\n",
    "print(f\"Classification Report: \\n{class_report}\")\n"
   ]
  },
  {
   "cell_type": "code",
   "execution_count": null,
   "metadata": {},
   "outputs": [],
   "source": []
  }
 ],
 "metadata": {
  "kernelspec": {
   "display_name": "ml_env",
   "language": "python",
   "name": "python3"
  },
  "language_info": {
   "codemirror_mode": {
    "name": "ipython",
    "version": 3
   },
   "file_extension": ".py",
   "mimetype": "text/x-python",
   "name": "python",
   "nbconvert_exporter": "python",
   "pygments_lexer": "ipython3",
   "version": "3.12.6"
  }
 },
 "nbformat": 4,
 "nbformat_minor": 2
}
