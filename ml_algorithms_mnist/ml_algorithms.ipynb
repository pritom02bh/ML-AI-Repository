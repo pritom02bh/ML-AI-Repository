{
 "cells": [
  {
   "cell_type": "markdown",
   "metadata": {},
   "source": [
    "### CSIT 598 Machine Learning | Assignment 1 | By Pritom Bhowmik"
   ]
  },
  {
   "cell_type": "code",
   "execution_count": 8,
   "metadata": {},
   "outputs": [],
   "source": [
    "# standard imports\n",
    "import numpy as np\n",
    "import pandas as pd\n",
    "import matplotlib.pyplot as plt\n",
    "import seaborn as sns\n",
    "import tensorflow as tf\n",
    "from sklearn.model_selection import train_test_split\n",
    "from sklearn.tree import DecisionTreeClassifier\n",
    "from sklearn.metrics import accuracy_score\n",
    "from sklearn.metrics import confusion_matrix\n",
    "from sklearn.metrics import classification_report\n",
    "from sklearn.metrics import roc_auc_score\n",
    "from sklearn.metrics import roc_curve\n",
    "from sklearn.metrics import precision_score\n",
    "from sklearn.metrics import recall_score\n",
    "from sklearn.metrics import f1_score\n",
    "from sklearn.metrics import accuracy_score, classification_report"
   ]
  },
  {
   "cell_type": "code",
   "execution_count": 9,
   "metadata": {},
   "outputs": [],
   "source": [
    "# Load Dataset\n",
    "mnist = tf.keras.datasets.mnist\n",
    "(X_train, y_train), (X_test, y_test) = mnist.load_data()\n",
    "\n",
    "# Flatten the images to 1D array of 784 features (28*28) for each image\n",
    "X_train = X_train.reshape(X_train.shape[0], 784)\n",
    "X_test = X_test.reshape(X_test.shape[0], 784)\n",
    "\n",
    "# Normalize the images to a value between 0 and 1\n",
    "X_train = X_train / 255.0\n",
    "X_test = X_test / 255.0\n",
    "\n",
    "# Split the dataset into training and testing sets\n",
    "X_train, X_test, y_train, y_test = train_test_split(X_train, y_train, test_size=0.2, random_state=45)\n"
   ]
  },
  {
   "cell_type": "markdown",
   "metadata": {},
   "source": [
    "### Tasks:"
   ]
  },
  {
   "cell_type": "markdown",
   "metadata": {},
   "source": [
    "#### 1. Decision Tree Classifier:"
   ]
  },
  {
   "cell_type": "code",
   "execution_count": 10,
   "metadata": {},
   "outputs": [
    {
     "name": "stdout",
     "output_type": "stream",
     "text": [
      "Training Accuracy: 1.0\n",
      "Test Accuracy: 0.86425\n",
      "Classification Report:\n",
      "              precision    recall  f1-score   support\n",
      "\n",
      "           0       0.92      0.92      0.92      1170\n",
      "           1       0.94      0.95      0.95      1357\n",
      "           2       0.84      0.83      0.83      1197\n",
      "           3       0.80      0.82      0.81      1184\n",
      "           4       0.86      0.86      0.86      1136\n",
      "           5       0.82      0.81      0.81      1047\n",
      "           6       0.90      0.89      0.90      1170\n",
      "           7       0.91      0.92      0.92      1289\n",
      "           8       0.82      0.80      0.81      1234\n",
      "           9       0.81      0.82      0.82      1216\n",
      "\n",
      "    accuracy                           0.86     12000\n",
      "   macro avg       0.86      0.86      0.86     12000\n",
      "weighted avg       0.86      0.86      0.86     12000\n",
      "\n"
     ]
    }
   ],
   "source": [
    "# Decision Tree Classifier\n",
    "dt = DecisionTreeClassifier(random_state=45)\n",
    "\n",
    "# train the model\n",
    "dt.fit(X_train, y_train)\n",
    "\n",
    "# Predict the labels\n",
    "y_pred = dt.predict(X_test)\n",
    "\n",
    "# evaluate the model on training dataset\n",
    "print(\"Training Accuracy:\", dt.score(X_train, y_train))\n",
    "\n",
    "# evaluate the model on validation dataset\n",
    "print(\"Test Accuracy:\", dt.score(X_test, y_test))\n",
    "\n",
    "# Classification Report\n",
    "print(\"Classification Report:\")\n",
    "print(classification_report(y_test, y_pred))"
   ]
  },
  {
   "cell_type": "markdown",
   "metadata": {},
   "source": [
    "#### 2. Naive Bayes Classifier"
   ]
  },
  {
   "cell_type": "markdown",
   "metadata": {},
   "source": [
    "#### Gaussian"
   ]
  },
  {
   "cell_type": "code",
   "execution_count": 13,
   "metadata": {},
   "outputs": [
    {
     "name": "stdout",
     "output_type": "stream",
     "text": [
      "Training Accuracy: 0.5650833333333334\n",
      "Test Accuracy: 0.5621666666666667\n",
      "Classification Report:\n",
      "              precision    recall  f1-score   support\n",
      "\n",
      "           0       0.73      0.88      0.80      1170\n",
      "           1       0.80      0.94      0.86      1357\n",
      "           2       0.89      0.27      0.42      1197\n",
      "           3       0.73      0.41      0.53      1184\n",
      "           4       0.86      0.17      0.29      1136\n",
      "           5       0.66      0.07      0.12      1047\n",
      "           6       0.67      0.93      0.78      1170\n",
      "           7       0.88      0.32      0.47      1289\n",
      "           8       0.31      0.58      0.40      1234\n",
      "           9       0.36      0.94      0.52      1216\n",
      "\n",
      "    accuracy                           0.56     12000\n",
      "   macro avg       0.69      0.55      0.52     12000\n",
      "weighted avg       0.69      0.56      0.53     12000\n",
      "\n"
     ]
    }
   ],
   "source": [
    "# Naive Bayes Classifier (Gaussian)\n",
    "\n",
    "# Import the Gaussian Naive Bayes Classifier\n",
    "from sklearn.naive_bayes import GaussianNB\n",
    "\n",
    "# Create a Gaussian Naive Bayes Classifier\n",
    "nb = GaussianNB()\n",
    "\n",
    "# Train the model using the training sets\n",
    "nb.fit(X_train, y_train)\n",
    "\n",
    "# Predict the response for test dataset\n",
    "y_pred = nb.predict(X_test)\n",
    "\n",
    "# Training Accuracy\n",
    "print(\"Training Accuracy:\", nb.score(X_train, y_train))\n",
    "\n",
    "# Test Accuracy\n",
    "print(\"Test Accuracy:\", nb.score(X_test, y_test))\n",
    "\n",
    "# Classification Report\n",
    "print(\"Classification Report:\")\n",
    "print(classification_report(y_test, y_pred))"
   ]
  },
  {
   "cell_type": "markdown",
   "metadata": {},
   "source": [
    "#### Multinomial"
   ]
  },
  {
   "cell_type": "code",
   "execution_count": 14,
   "metadata": {},
   "outputs": [
    {
     "name": "stdout",
     "output_type": "stream",
     "text": [
      "Training Accuracy: 0.82475\n",
      "Test Accuracy: 0.8223333333333334\n",
      "Classification Report:\n",
      "              precision    recall  f1-score   support\n",
      "\n",
      "           0       0.92      0.90      0.91      1170\n",
      "           1       0.87      0.93      0.90      1357\n",
      "           2       0.89      0.81      0.85      1197\n",
      "           3       0.78      0.79      0.79      1184\n",
      "           4       0.83      0.75      0.79      1136\n",
      "           5       0.84      0.66      0.74      1047\n",
      "           6       0.86      0.91      0.88      1170\n",
      "           7       0.96      0.83      0.89      1289\n",
      "           8       0.66      0.77      0.71      1234\n",
      "           9       0.70      0.84      0.76      1216\n",
      "\n",
      "    accuracy                           0.82     12000\n",
      "   macro avg       0.83      0.82      0.82     12000\n",
      "weighted avg       0.83      0.82      0.82     12000\n",
      "\n"
     ]
    }
   ],
   "source": [
    "# Naive Bayes Classifier (Multinomial)\n",
    "\n",
    "# Import the Multinomial Naive Bayes Classifier\n",
    "from sklearn.naive_bayes import MultinomialNB\n",
    "\n",
    "# Create a Multinomial Naive Bayes Classifier\n",
    "nb = MultinomialNB()\n",
    "\n",
    "# Train the model using the training sets\n",
    "nb.fit(X_train, y_train)\n",
    "\n",
    "# Predict the response for test dataset\n",
    "y_pred = nb.predict(X_test)\n",
    "\n",
    "# Training Accuracy\n",
    "print(\"Training Accuracy:\", nb.score(X_train, y_train))\n",
    "\n",
    "# Test Accuracy\n",
    "print(\"Test Accuracy:\", nb.score(X_test, y_test))\n",
    "\n",
    "# Classification Report\n",
    "print(\"Classification Report:\")\n",
    "print(classification_report(y_test, y_pred))"
   ]
  },
  {
   "cell_type": "markdown",
   "metadata": {},
   "source": [
    "#### 3. Support Vector Machine Classifier (SVM)"
   ]
  },
  {
   "cell_type": "markdown",
   "metadata": {},
   "source": [
    "#### Linear Kernel (SVM)"
   ]
  },
  {
   "cell_type": "markdown",
   "metadata": {},
   "source": [
    "### "
   ]
  },
  {
   "cell_type": "code",
   "execution_count": 15,
   "metadata": {},
   "outputs": [
    {
     "name": "stdout",
     "output_type": "stream",
     "text": [
      "Training Accuracy: 0.9738541666666667\n",
      "Test Accuracy: 0.93075\n",
      "Classification Report:\n",
      "              precision    recall  f1-score   support\n",
      "\n",
      "           0       0.96      0.97      0.97      1170\n",
      "           1       0.94      0.98      0.96      1357\n",
      "           2       0.91      0.93      0.92      1197\n",
      "           3       0.91      0.91      0.91      1184\n",
      "           4       0.92      0.95      0.93      1136\n",
      "           5       0.89      0.89      0.89      1047\n",
      "           6       0.96      0.95      0.96      1170\n",
      "           7       0.95      0.93      0.94      1289\n",
      "           8       0.94      0.89      0.91      1234\n",
      "           9       0.92      0.90      0.91      1216\n",
      "\n",
      "    accuracy                           0.93     12000\n",
      "   macro avg       0.93      0.93      0.93     12000\n",
      "weighted avg       0.93      0.93      0.93     12000\n",
      "\n"
     ]
    }
   ],
   "source": [
    "from sklearn.svm import SVC\n",
    "\n",
    "# Create a Support Vector Classifier with a linear kernel\n",
    "svm_model = SVC(kernel='linear')\n",
    "\n",
    "# Train the model using the training sets\n",
    "svm_model.fit(X_train, y_train)\n",
    "\n",
    "# Predict the response for test dataset\n",
    "y_pred = svm_model.predict(X_test)\n",
    "\n",
    "# Training Accuracy\n",
    "print(\"Training Accuracy:\", svm_model.score(X_train, y_train))\n",
    "\n",
    "# Test Accuracy\n",
    "print(\"Test Accuracy:\", svm_model.score(X_test, y_test))\n",
    "\n",
    "# Classification Report\n",
    "print(\"Classification Report:\")\n",
    "print(classification_report(y_test, y_pred))"
   ]
  },
  {
   "cell_type": "markdown",
   "metadata": {},
   "source": [
    "#### RBF Kernel (SVM)"
   ]
  },
  {
   "cell_type": "code",
   "execution_count": 16,
   "metadata": {},
   "outputs": [
    {
     "name": "stdout",
     "output_type": "stream",
     "text": [
      "Training Accuracy: 0.98925\n",
      "Test Accuracy: 0.9778333333333333\n",
      "Classification Report:\n",
      "              precision    recall  f1-score   support\n",
      "\n",
      "           0       0.99      0.99      0.99      1170\n",
      "           1       0.99      0.99      0.99      1357\n",
      "           2       0.97      0.98      0.98      1197\n",
      "           3       0.98      0.96      0.97      1184\n",
      "           4       0.96      0.98      0.97      1136\n",
      "           5       0.97      0.98      0.98      1047\n",
      "           6       0.98      0.99      0.99      1170\n",
      "           7       0.98      0.98      0.98      1289\n",
      "           8       0.98      0.97      0.97      1234\n",
      "           9       0.97      0.96      0.97      1216\n",
      "\n",
      "    accuracy                           0.98     12000\n",
      "   macro avg       0.98      0.98      0.98     12000\n",
      "weighted avg       0.98      0.98      0.98     12000\n",
      "\n"
     ]
    }
   ],
   "source": [
    "# Vector Machine Classifier (SVM) with RBF Kernel\n",
    "\n",
    "# Create a Support Vector Classifier with an RBF kernel\n",
    "svm_model = SVC(kernel='rbf')\n",
    "\n",
    "# Train the model using the training sets\n",
    "svm_model.fit(X_train, y_train)\n",
    "\n",
    "# Predict the response for test dataset\n",
    "y_pred = svm_model.predict(X_test)\n",
    "\n",
    "# Training Accuracy\n",
    "print(\"Training Accuracy:\", svm_model.score(X_train, y_train))\n",
    "\n",
    "# Test Accuracy\n",
    "print(\"Test Accuracy:\", svm_model.score(X_test, y_test))\n",
    "\n",
    "# Classification Report\n",
    "print(\"Classification Report:\")\n",
    "print(classification_report(y_test, y_pred))"
   ]
  },
  {
   "cell_type": "markdown",
   "metadata": {},
   "source": [
    "#### 4. K-Nearest Neighbors (K-NN)"
   ]
  },
  {
   "cell_type": "code",
   "execution_count": 17,
   "metadata": {},
   "outputs": [
    {
     "name": "stdout",
     "output_type": "stream",
     "text": [
      "Accuracy for k=1: 0.9711666666666666\n",
      "Accuracy for k=2: 0.9658333333333333\n",
      "Accuracy for k=3: 0.9728333333333333\n",
      "Accuracy for k=4: 0.9715\n",
      "Accuracy for k=5: 0.9715\n",
      "Accuracy for k=6: 0.9699166666666666\n",
      "Accuracy for k=7: 0.9698333333333333\n",
      "Accuracy for k=8: 0.9686666666666667\n",
      "Accuracy for k=9: 0.96775\n",
      "\n",
      "Optimal k value: 3 with an accuracy of: 0.9728333333333333\n",
      "Classification Report for optimal k=3:\n",
      "              precision    recall  f1-score   support\n",
      "\n",
      "           0       0.98      0.99      0.99      1170\n",
      "           1       0.96      1.00      0.98      1357\n",
      "           2       0.98      0.97      0.97      1197\n",
      "           3       0.97      0.96      0.97      1184\n",
      "           4       0.98      0.97      0.97      1136\n",
      "           5       0.96      0.96      0.96      1047\n",
      "           6       0.98      0.99      0.98      1170\n",
      "           7       0.97      0.98      0.97      1289\n",
      "           8       0.99      0.94      0.97      1234\n",
      "           9       0.96      0.96      0.96      1216\n",
      "\n",
      "    accuracy                           0.97     12000\n",
      "   macro avg       0.97      0.97      0.97     12000\n",
      "weighted avg       0.97      0.97      0.97     12000\n",
      "\n"
     ]
    }
   ],
   "source": [
    "# K-Nearest Neighbors Classifier\n",
    "\n",
    "# Import the KNeighborsClassifier\n",
    "from sklearn.neighbors import KNeighborsClassifier\n",
    "\n",
    "# Experiment with different values of k\n",
    "k_values = range(1, 10)  # K Value\n",
    "accuracies = []\n",
    "\n",
    "for k in k_values:\n",
    "    # Create a k-NN Classifier\n",
    "    knn = KNeighborsClassifier(n_neighbors=k)\n",
    "    \n",
    "    # Train the model using the training sets\n",
    "    knn.fit(X_train, y_train)\n",
    "    \n",
    "    # Predict the response for the validation dataset\n",
    "    y_pred = knn.predict(X_test)\n",
    "    \n",
    "    # Calculate the accuracy\n",
    "    accuracy = accuracy_score(y_test, y_pred)\n",
    "    accuracies.append(accuracy)\n",
    "    print(f\"Accuracy for k={k}: {accuracy}\")\n",
    "\n",
    "# Find the optimal k\n",
    "optimal_k = k_values[np.argmax(accuracies)]\n",
    "optimal_accuracy = max(accuracies)\n",
    "\n",
    "print(f\"\\nOptimal k value: {optimal_k} with an accuracy of: {optimal_accuracy}\")\n",
    "\n",
    "# Classification Report for the optimal k\n",
    "best_knn = KNeighborsClassifier(n_neighbors=optimal_k)\n",
    "best_knn.fit(X_train, y_train)\n",
    "y_pred_best = best_knn.predict(X_test)\n",
    "\n",
    "# Display the classification report for the optimal k\n",
    "class_report = classification_report(y_test, y_pred_best)\n",
    "print(f\"Classification Report for optimal k={optimal_k}:\\n{class_report}\")\n"
   ]
  },
  {
   "cell_type": "markdown",
   "metadata": {},
   "source": [
    "#### 5. Ensemble Learning"
   ]
  },
  {
   "cell_type": "markdown",
   "metadata": {},
   "source": [
    "#### Bagging"
   ]
  },
  {
   "cell_type": "code",
   "execution_count": 18,
   "metadata": {},
   "outputs": [
    {
     "name": "stdout",
     "output_type": "stream",
     "text": [
      "Training Accuracy: 1.0\n",
      "Test Accuracy: 0.9556666666666667\n",
      "Classification Report:\n",
      "              precision    recall  f1-score   support\n",
      "\n",
      "           0       0.97      0.99      0.98      1170\n",
      "           1       0.98      0.98      0.98      1357\n",
      "           2       0.93      0.96      0.95      1197\n",
      "           3       0.96      0.92      0.94      1184\n",
      "           4       0.95      0.95      0.95      1136\n",
      "           5       0.94      0.94      0.94      1047\n",
      "           6       0.97      0.97      0.97      1170\n",
      "           7       0.97      0.97      0.97      1289\n",
      "           8       0.94      0.94      0.94      1234\n",
      "           9       0.93      0.94      0.94      1216\n",
      "\n",
      "    accuracy                           0.96     12000\n",
      "   macro avg       0.96      0.96      0.96     12000\n",
      "weighted avg       0.96      0.96      0.96     12000\n",
      "\n"
     ]
    }
   ],
   "source": [
    "from sklearn.ensemble import BaggingClassifier\n",
    "from sklearn.tree import DecisionTreeClassifier\n",
    "from sklearn.metrics import accuracy_score, precision_score, recall_score, classification_report\n",
    "\n",
    "# Create a Bagging Classifier with Decision Trees as the base estimator\n",
    "bagging = BaggingClassifier(estimator=DecisionTreeClassifier(), n_estimators=100)\n",
    "\n",
    "# Train the model using the training sets\n",
    "bagging.fit(X_train, y_train)\n",
    "\n",
    "# Predict the response for test dataset\n",
    "y_pred = bagging.predict(X_test)\n",
    "\n",
    "# Training Accuracy\n",
    "print(\"Training Accuracy:\", bagging.score(X_train, y_train))\n",
    "\n",
    "# Test Accuracy\n",
    "print(\"Test Accuracy:\", bagging.score(X_test, y_test))\n",
    "\n",
    "# Classification Report\n",
    "print(\"Classification Report:\")\n",
    "print(classification_report(y_test, y_pred))\n",
    "\n",
    "# confusion matrix\n",
    "conf_matrix = confusion_matrix(y_test, y_pred)\n",
    "\n"
   ]
  },
  {
   "cell_type": "markdown",
   "metadata": {},
   "source": [
    "#### Adaboost With Decision Tree as base estimator"
   ]
  },
  {
   "cell_type": "code",
   "execution_count": 19,
   "metadata": {},
   "outputs": [
    {
     "name": "stdout",
     "output_type": "stream",
     "text": [
      "Training Accuracy: 1.0\n",
      "Test Accuracy: 0.8608333333333333\n",
      "Classification Report:\n",
      "              precision    recall  f1-score   support\n",
      "\n",
      "           0       0.91      0.92      0.91      1170\n",
      "           1       0.94      0.95      0.94      1357\n",
      "           2       0.84      0.83      0.84      1197\n",
      "           3       0.80      0.81      0.81      1184\n",
      "           4       0.86      0.86      0.86      1136\n",
      "           5       0.81      0.80      0.81      1047\n",
      "           6       0.90      0.88      0.89      1170\n",
      "           7       0.91      0.92      0.92      1289\n",
      "           8       0.80      0.80      0.80      1234\n",
      "           9       0.82      0.82      0.82      1216\n",
      "\n",
      "    accuracy                           0.86     12000\n",
      "   macro avg       0.86      0.86      0.86     12000\n",
      "weighted avg       0.86      0.86      0.86     12000\n",
      "\n"
     ]
    }
   ],
   "source": [
    "from sklearn.ensemble import AdaBoostClassifier\n",
    "from sklearn.tree import DecisionTreeClassifier\n",
    "from sklearn.metrics import accuracy_score, precision_score, recall_score, classification_report\n",
    "\n",
    "# Create a Decision Tree Classifier with AdaBoost as the boosting method using SAMME algorithm\n",
    "ada_boost = AdaBoostClassifier(estimator=DecisionTreeClassifier(), n_estimators=100, algorithm=\"SAMME\")\n",
    "\n",
    "# Train the model using the training sets\n",
    "ada_boost.fit(X_train, y_train)\n",
    "\n",
    "# Predict the response for test dataset\n",
    "y_pred = ada_boost.predict(X_test)\n",
    "\n",
    "# Training Accuracy\n",
    "print(\"Training Accuracy:\", ada_boost.score(X_train, y_train))\n",
    "\n",
    "# Test Accuracy\n",
    "print(\"Test Accuracy:\", ada_boost.score(X_test, y_test))\n",
    "\n",
    "# Classification Report\n",
    "print(\"Classification Report:\")\n",
    "print(classification_report(y_test, y_pred))"
   ]
  },
  {
   "cell_type": "markdown",
   "metadata": {},
   "source": [
    "#### Random Forest Classifier"
   ]
  },
  {
   "cell_type": "code",
   "execution_count": 20,
   "metadata": {},
   "outputs": [
    {
     "name": "stdout",
     "output_type": "stream",
     "text": [
      "Training Accuracy: 1.0\n",
      "Test Accuracy: 0.9671666666666666\n",
      "Classification Report:\n",
      "              precision    recall  f1-score   support\n",
      "\n",
      "           0       0.98      0.99      0.98      1170\n",
      "           1       0.98      0.98      0.98      1357\n",
      "           2       0.95      0.97      0.96      1197\n",
      "           3       0.97      0.95      0.96      1184\n",
      "           4       0.96      0.97      0.96      1136\n",
      "           5       0.97      0.96      0.96      1047\n",
      "           6       0.98      0.98      0.98      1170\n",
      "           7       0.97      0.97      0.97      1289\n",
      "           8       0.96      0.96      0.96      1234\n",
      "           9       0.95      0.94      0.95      1216\n",
      "\n",
      "    accuracy                           0.97     12000\n",
      "   macro avg       0.97      0.97      0.97     12000\n",
      "weighted avg       0.97      0.97      0.97     12000\n",
      "\n"
     ]
    }
   ],
   "source": [
    "# Random Forest Classifier\n",
    "\n",
    "from sklearn.ensemble import RandomForestClassifier\n",
    "\n",
    "# Create a Random Forest Classifier\n",
    "rf = RandomForestClassifier(n_estimators=100)\n",
    "\n",
    "# Train the model using the training sets\n",
    "rf.fit(X_train, y_train)\n",
    "\n",
    "# Predict the response for test dataset\n",
    "y_pred = rf.predict(X_test)\n",
    "\n",
    "# Training Accuracy\n",
    "print(\"Training Accuracy:\", rf.score(X_train, y_train))\n",
    "\n",
    "# Test Accuracy\n",
    "print(\"Test Accuracy:\", rf.score(X_test, y_test))\n",
    "\n",
    "# Classification Report\n",
    "print(\"Classification Report:\")\n",
    "print(classification_report(y_test, y_pred))"
   ]
  },
  {
   "cell_type": "code",
   "execution_count": null,
   "metadata": {},
   "outputs": [],
   "source": []
  }
 ],
 "metadata": {
  "kernelspec": {
   "display_name": "ml_env",
   "language": "python",
   "name": "python3"
  },
  "language_info": {
   "codemirror_mode": {
    "name": "ipython",
    "version": 3
   },
   "file_extension": ".py",
   "mimetype": "text/x-python",
   "name": "python",
   "nbconvert_exporter": "python",
   "pygments_lexer": "ipython3",
   "version": "3.12.6"
  }
 },
 "nbformat": 4,
 "nbformat_minor": 2
}
